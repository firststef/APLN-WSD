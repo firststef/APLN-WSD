{
  "nbformat": 4,
  "nbformat_minor": 0,
  "metadata": {
    "colab": {
      "provenance": [],
      "mount_file_id": "1RbAekJ73567PxPFXzqE01qQIkLLCfBvN",
      "authorship_tag": "ABX9TyN/QFbw+9Z0xS/BjCpjpycO",
      "include_colab_link": true
    },
    "kernelspec": {
      "name": "python3",
      "display_name": "Python 3"
    },
    "language_info": {
      "name": "python"
    },
    "gpuClass": "standard"
  },
  "cells": [
    {
      "cell_type": "markdown",
      "metadata": {
        "id": "view-in-github",
        "colab_type": "text"
      },
      "source": [
        "<a href=\"https://colab.research.google.com/github/firststef/APLN-WSD/blob/master/WSD_Romanian_3.ipynb\" target=\"_parent\"><img src=\"https://colab.research.google.com/assets/colab-badge.svg\" alt=\"Open In Colab\"/></a>"
      ]
    },
    {
      "cell_type": "code",
      "source": [
        "from bs4 import BeautifulSoup\n",
        "\n",
        "def parse_xml(path):\n",
        "  with open(path, encoding='windows-1252') as fp:\n",
        "    soup = BeautifulSoup(fp, 'html.parser')\n",
        "  data = soup.find_all('instance')\n",
        "  new_data = []\n",
        "  for inst in data:\n",
        "    sentence = inst.find('context').decode_contents().strip('\\n')\n",
        "    a, *b = sentence.split('<head>')\n",
        "    b, *c = ''.join(b).split('</head>')\n",
        "    sentence = a + b.lower() + ''.join(c)\n",
        "    new_data.append((sentence, inst.attrs['id'], b.lower()))\n",
        "  return new_data\n",
        "\n",
        "train_se3 = parse_xml(\"/content/drive/MyDrive/Colab Notebooks/wsd/RomanianLS.train\")\n",
        "test_se3 = parse_xml(\"/content/drive/MyDrive/Colab Notebooks/wsd/RomanianLS.test\")"
      ],
      "metadata": {
        "id": "FqN9sS6aLiZ5"
      },
      "execution_count": 5,
      "outputs": []
    },
    {
      "cell_type": "code",
      "source": [
        "import os\n",
        "import pickle\n",
        "from sklearn.feature_extraction.text import TfidfVectorizer\n",
        "from sklearn.ensemble import RandomForestClassifier\n",
        "from sklearn.metrics import confusion_matrix\n",
        "import nltk\n",
        "nltk.download('stopwords')\n",
        "from nltk.corpus import stopwords\n",
        "\n",
        "ro_stop_words = stopwords.words('romanian')\n",
        "\n",
        "def import_data(data):\n",
        "  x = []\n",
        "  y = []\n",
        "  for entry in data:\n",
        "    x.append(entry[0])\n",
        "    y.append(entry[1])\n",
        "  return [x, y]\n",
        "\n",
        "x, y = import_data(train_se3)\n",
        "\n",
        "tfidfvectorizer = TfidfVectorizer(strip_accents=\"ascii\", stop_words=ro_stop_words, token_pattern=r\"(?u)\\b[A-Za-z]+\\b\")\n",
        "x = tfidfvectorizer.fit_transform(x).toarray()\n",
        "\n",
        "classifier = RandomForestClassifier(n_jobs=1, max_depth=1000, max_features=10000)\n",
        "classifier.fit(x, y)\n",
        "\n",
        "with open(\"classifier.bin\", \"wb\") as f:\n",
        "    pickle.dump(classifier, f)\n",
        "with open(\"vectorizer.bin\", \"wb\") as f:\n",
        "    pickle.dump(tfidfvectorizer, f)\n",
        "\n",
        "y_prediction = classifier.predict(x)\n",
        "\n",
        "print(confusion_matrix(y, y_prediction))"
      ],
      "metadata": {
        "colab": {
          "base_uri": "https://localhost:8080/"
        },
        "id": "t6XDbTRnmDcT",
        "outputId": "c302f2a3-4b24-40e8-e30e-b39b94193d7a"
      },
      "execution_count": null,
      "outputs": [
        {
          "output_type": "stream",
          "name": "stderr",
          "text": [
            "[nltk_data] Downloading package stopwords to /root/nltk_data...\n",
            "[nltk_data]   Package stopwords is already up-to-date!\n"
          ]
        }
      ]
    },
    {
      "cell_type": "code",
      "source": [
        "import sys\n",
        "import os\n",
        "import pickle\n",
        "\n",
        "def get_classifier():\n",
        "  f_classifier = open(\"classifier.bin\", \"rb\")\n",
        "  classifier = pickle.load(f_classifier)\n",
        "  f_classifier.close()\n",
        "  return classifier\n",
        "\n",
        "def get_vectorizer():\n",
        "  f_vectorizer = open(\"vectorizer.bin\", \"rb\")\n",
        "  vectorizer = pickle.load(f_vectorizer)\n",
        "  f_vectorizer.close()\n",
        "  return vectorizer\n",
        "\n",
        "x, y = import_data(test_se3)\n",
        "\n",
        "def scan(folder, output_file, debug=False):\n",
        "  classifier = get_classifier()\n",
        "  vectorizer = get_vectorizer()\n",
        "\n",
        "  converted = vectorizer.transform(x)\n",
        "  verdicts = classifier.predict(converted)\n",
        "  correct = 0\n",
        "  for i in range(0, len(verdicts)):\n",
        "    if verdicts[i] == y[i]:\n",
        "      correct += 1\n",
        "  print(correct / len(verdicts))\n"
      ],
      "metadata": {
        "id": "akjs_Yy7m5E8"
      },
      "execution_count": null,
      "outputs": []
    }
  ]
}